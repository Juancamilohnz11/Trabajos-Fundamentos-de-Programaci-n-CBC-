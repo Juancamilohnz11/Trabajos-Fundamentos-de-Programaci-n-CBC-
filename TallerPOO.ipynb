{
  "nbformat": 4,
  "nbformat_minor": 0,
  "metadata": {
    "colab": {
      "provenance": []
    },
    "kernelspec": {
      "name": "python3",
      "display_name": "Python 3"
    },
    "language_info": {
      "name": "python"
    }
  },
  "cells": [
    {
      "cell_type": "code",
      "source": [
        "class Cuenta:\n",
        "    def __init__(self,DNI, saldo_actual,interes):\n",
        "        self.numero_de_cuenta = 100001\n",
        "        self.DNI= DNI\n",
        "        self.saldo_actual = saldo_actual\n",
        "        self.interes=interes\n",
        "\n",
        "    def mostrarCuenta(self):\n",
        "        return \"%s tiene una cantidad de:%s\" % (self.numero_de_cuenta,self.saldo_actual)\n",
        "\n",
        "    def saldoInteres(self):\n",
        "      saldo_nuevo=0;\n",
        "      saldo_nuevo = self.saldo_actual + (self.saldo_actual * ((self.interes / 100) / 365));\n",
        "      return  saldo_nuevo\n",
        "\n",
        "    def ingresarDinero(self,cantidadIngresar):\n",
        "      nuevo_monto=0;\n",
        "      nuevo_monto = self.saldoInteres() + cantidadIngresar;\n",
        "      self.saldo_actual=nuevo_monto\n",
        "      return nuevo_monto\n",
        "\n",
        "\n",
        "    def retirarDinero(self,CantidadRetirar):\n",
        "      nuevo_monto = 0;\n",
        "      if (self.saldo_actual >= CantidadRetirar):\n",
        "          nuevo_monto = self.saldoInteres() - CantidadRetirar;\n",
        "      else:\n",
        "          return \"No hay saldo suficiente en su cuenta!!\"\n",
        "      self.saldo_actual=nuevo_monto\n",
        "      return nuevo_monto;\n",
        "\n",
        "\n",
        "\n",
        "cuen1=Cuenta(1007227555,10000,3)\n",
        "cuen1.ingresarDinero(1000)\n",
        "cuen1.retirarDinero(1000)\n",
        "cuen1.mostrarCuenta()"
      ],
      "metadata": {
        "colab": {
          "base_uri": "https://localhost:8080/",
          "height": 35
        },
        "id": "mJvLQZ_vzMc8",
        "outputId": "e7b0d597-220a-437f-c561-20171e457b51"
      },
      "execution_count": 3,
      "outputs": [
        {
          "output_type": "execute_result",
          "data": {
            "text/plain": [
              "'100001 tiene una cantidad de:10001.72609495215'"
            ],
            "application/vnd.google.colaboratory.intrinsic+json": {
              "type": "string"
            }
          },
          "metadata": {},
          "execution_count": 3
        }
      ]
    },
    {
      "cell_type": "code",
      "source": [
        "class Cafetera:\n",
        "\n",
        "    def __init__(self,cantidadActual):\n",
        "        self.capacidadMaxima = 1000\n",
        "        self.cantidadActual= cantidadActual\n",
        "\n",
        "    def llenarCafetera(self):\n",
        "      self.cantidadActual=self.capacidadMaxima\n",
        "\n",
        "    def servirTaza(self, cantidad):\n",
        "      if(cantidad > self.cantidadActual):\n",
        "        cantidadServida=0\n",
        "        cantidadServida=self.cantidadActual\n",
        "        self.cantidadActual=0\n",
        "        return cantidadServida\n",
        "      else:\n",
        "        cantidadServida=0\n",
        "        cantidadServida=self.cantidadActual-cantidad\n",
        "        self.cantidadActual=self.cantidadActual-cantidad\n",
        "        return cantidadServida\n",
        "\n",
        "    def vaciarCafetera(self):\n",
        "      self.cantidadActual=0\n",
        "\n",
        "    def llenarCafetera(self,cantidad):\n",
        "      if(cantidad> self.capacidadMaxima):\n",
        "        self.cantidadActual=self.capacidadMaxima\n",
        "      else:\n",
        "        self.cantidadActual=self.cantidadActual+cantidad\n",
        "\n",
        "    def mostrarCuenta(self):\n",
        "        return {\"capacidad maxima:\":self.capacidadMaxima, \"capacidad actual\":self.cantidadActual}\n",
        "\n",
        "cafe=Cafetera(100)\n",
        "cafe.servirTaza(20)\n",
        "cafe.vaciarCafetera()\n",
        "cafe.llenarCafetera(200)\n",
        "cafe.mostrarCuenta()"
      ],
      "metadata": {
        "id": "A1jlxDOfzP0V"
      },
      "execution_count": null,
      "outputs": []
    },
    {
      "cell_type": "code",
      "source": [
        "class Arrays:\n",
        "    def __init__(self):\n",
        "        self.array=[]\n",
        "\n",
        "    def pedirNum(self):\n",
        "      i = 1\n",
        "      while i < 11:\n",
        "        valor = int(input(\"Inserta un valor que sea un número: \"))\n",
        "        self.array.append(valor)\n",
        "        i += 1  \n",
        "\n",
        "    def invertirNums(self):\n",
        "       self.array.reverse()\n",
        "       print(\"valores invertidos son : \", self.array)\n",
        "\n",
        "arr1=Arrays()\n",
        "arr1.pedirNum()\n",
        "arr1.invertirNums()"
      ],
      "metadata": {
        "id": "zRpfPugJzYcF"
      },
      "execution_count": null,
      "outputs": []
    },
    {
      "cell_type": "code",
      "source": [
        "import random\n",
        "import statistics\n",
        "from numpy import mean\n",
        "\n",
        "class Numeros:\n",
        "    def __init__(self):\n",
        "        self.array=[]\n",
        "\n",
        "    def llenarNumeros(self):\n",
        "      i = 1\n",
        "      while i < 31:\n",
        "        valor = random.uniform(1, 9)\n",
        "        self.array.append(valor)\n",
        "        i += 1  \n",
        "\n",
        "    def media(self):\n",
        "       return {\"media:\": mean(self.array)}\n",
        "\n",
        "    def desviacionEstandar(self):\n",
        "      desv=statistics.pstdev(self.array)\n",
        "      return {\"desviación estandar:\": desv}\n",
        "\n",
        "arr1=Numeros()\n",
        "arr1.llenarNumeros()\n",
        "arr1.media()\n",
        "arr1.desviacionEstandar()"
      ],
      "metadata": {
        "id": "t_ypgOZezcka"
      },
      "execution_count": null,
      "outputs": []
    },
    {
      "cell_type": "code",
      "source": [
        "class Cancion():\n",
        "  def __init__(self, p_titulo, p_autor):\n",
        "    self.titulo = p_titulo\n",
        "    self.autor = p_autor\n",
        "\n",
        "    #Metodos\n",
        "\n",
        "    def dameTitulo (self):\n",
        "      titulo = self.p_titulo\n",
        "      return titulo\n",
        "\n",
        "    def dameAutor (self):\n",
        "      autor = self.p_autor\n",
        "      return autor\n",
        "\n",
        "    def ponTitulo ():\n",
        "      return p_titulo\n",
        "    \n",
        "    def ponAutor ():\n",
        "      return p_autor\n",
        "\n",
        "\n",
        "    def MostrarCancion(self):\n",
        "      print(\"\\ntitulo: \"+self.p_titulo()+\"\\nautor: \"+self.p_autor())\n",
        "\n",
        "p_titulo = (input(\"Titulo : \"))\n",
        "p_autor = (input(\"Autor : \"))\n",
        "\n",
        "tema = Cancion(p_titulo, p_autor)\n",
        "print(\"El titulo de la canción es {} y el autor es {} \".format(tema.titulo,tema.autor))"
      ],
      "metadata": {
        "id": "Uf9rWQzqzgoI"
      },
      "execution_count": null,
      "outputs": []
    }
  ]
}